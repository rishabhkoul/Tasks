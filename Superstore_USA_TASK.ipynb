{
 "cells": [
  {
   "cell_type": "code",
   "execution_count": 1,
   "id": "e516a8d8",
   "metadata": {},
   "outputs": [],
   "source": [
    "import pandas as pd"
   ]
  },
  {
   "cell_type": "code",
   "execution_count": 6,
   "id": "a22bc3bc",
   "metadata": {},
   "outputs": [],
   "source": [
    "dataset = pd.read_excel('data fsds/Superstore_USA.xlsx')\n",
    "returns = pd.read_excel('data fsds/Superstore_USA.xlsx',sheet_name=1)\n",
    "users = pd.read_excel('data fsds/Superstore_USA.xlsx',sheet_name=2)\n",
    "df = dataset.copy()"
   ]
  },
  {
   "cell_type": "code",
   "execution_count": 66,
   "id": "29d2e898",
   "metadata": {},
   "outputs": [
    {
     "data": {
      "text/html": [
       "<div>\n",
       "<style scoped>\n",
       "    .dataframe tbody tr th:only-of-type {\n",
       "        vertical-align: middle;\n",
       "    }\n",
       "\n",
       "    .dataframe tbody tr th {\n",
       "        vertical-align: top;\n",
       "    }\n",
       "\n",
       "    .dataframe thead th {\n",
       "        text-align: right;\n",
       "    }\n",
       "</style>\n",
       "<table border=\"1\" class=\"dataframe\">\n",
       "  <thead>\n",
       "    <tr style=\"text-align: right;\">\n",
       "      <th></th>\n",
       "      <th>Row ID</th>\n",
       "      <th>Order Priority</th>\n",
       "      <th>Discount</th>\n",
       "      <th>Unit Price</th>\n",
       "      <th>Shipping Cost</th>\n",
       "      <th>Customer ID</th>\n",
       "      <th>Customer Name</th>\n",
       "      <th>Ship Mode</th>\n",
       "      <th>Customer Segment</th>\n",
       "      <th>Product Category</th>\n",
       "      <th>...</th>\n",
       "      <th>Region</th>\n",
       "      <th>State or Province</th>\n",
       "      <th>City</th>\n",
       "      <th>Postal Code</th>\n",
       "      <th>Order Date</th>\n",
       "      <th>Ship Date</th>\n",
       "      <th>Profit</th>\n",
       "      <th>Quantity ordered new</th>\n",
       "      <th>Sales</th>\n",
       "      <th>Order ID</th>\n",
       "    </tr>\n",
       "  </thead>\n",
       "  <tbody>\n",
       "    <tr>\n",
       "      <th>0</th>\n",
       "      <td>18606</td>\n",
       "      <td>Not Specified</td>\n",
       "      <td>0.01</td>\n",
       "      <td>2.88</td>\n",
       "      <td>0.5</td>\n",
       "      <td>2</td>\n",
       "      <td>Janice Fletcher</td>\n",
       "      <td>Regular Air</td>\n",
       "      <td>Corporate</td>\n",
       "      <td>Office Supplies</td>\n",
       "      <td>...</td>\n",
       "      <td>Central</td>\n",
       "      <td>Illinois</td>\n",
       "      <td>Addison</td>\n",
       "      <td>60101</td>\n",
       "      <td>2012-05-28</td>\n",
       "      <td>2012-05-30</td>\n",
       "      <td>1.32</td>\n",
       "      <td>2</td>\n",
       "      <td>5.9</td>\n",
       "      <td>88525</td>\n",
       "    </tr>\n",
       "  </tbody>\n",
       "</table>\n",
       "<p>1 rows × 24 columns</p>\n",
       "</div>"
      ],
      "text/plain": [
       "   Row ID Order Priority  Discount  Unit Price  Shipping Cost  Customer ID  \\\n",
       "0   18606  Not Specified      0.01        2.88            0.5            2   \n",
       "\n",
       "     Customer Name    Ship Mode Customer Segment Product Category  ...  \\\n",
       "0  Janice Fletcher  Regular Air        Corporate  Office Supplies  ...   \n",
       "\n",
       "    Region State or Province     City  Postal Code Order Date  Ship Date  \\\n",
       "0  Central          Illinois  Addison        60101 2012-05-28 2012-05-30   \n",
       "\n",
       "  Profit  Quantity ordered new Sales Order ID  \n",
       "0   1.32                     2   5.9    88525  \n",
       "\n",
       "[1 rows x 24 columns]"
      ]
     },
     "execution_count": 66,
     "metadata": {},
     "output_type": "execute_result"
    }
   ],
   "source": [
    "df.head(1)"
   ]
  },
  {
   "cell_type": "code",
   "execution_count": 67,
   "id": "1195bf61",
   "metadata": {},
   "outputs": [
    {
     "name": "stdout",
     "output_type": "stream",
     "text": [
      "<class 'pandas.core.frame.DataFrame'>\n",
      "RangeIndex: 9426 entries, 0 to 9425\n",
      "Data columns (total 24 columns):\n",
      " #   Column                Non-Null Count  Dtype         \n",
      "---  ------                --------------  -----         \n",
      " 0   Row ID                9426 non-null   int64         \n",
      " 1   Order Priority        9426 non-null   object        \n",
      " 2   Discount              9426 non-null   float64       \n",
      " 3   Unit Price            9426 non-null   float64       \n",
      " 4   Shipping Cost         9426 non-null   float64       \n",
      " 5   Customer ID           9426 non-null   int64         \n",
      " 6   Customer Name         9426 non-null   object        \n",
      " 7   Ship Mode             9426 non-null   object        \n",
      " 8   Customer Segment      9426 non-null   object        \n",
      " 9   Product Category      9426 non-null   object        \n",
      " 10  Product Sub-Category  9426 non-null   object        \n",
      " 11  Product Container     9426 non-null   object        \n",
      " 12  Product Name          9426 non-null   object        \n",
      " 13  Product Base Margin   9354 non-null   float64       \n",
      " 14  Region                9426 non-null   object        \n",
      " 15  State or Province     9426 non-null   object        \n",
      " 16  City                  9426 non-null   object        \n",
      " 17  Postal Code           9426 non-null   int64         \n",
      " 18  Order Date            9426 non-null   datetime64[ns]\n",
      " 19  Ship Date             9426 non-null   datetime64[ns]\n",
      " 20  Profit                9426 non-null   float64       \n",
      " 21  Quantity ordered new  9426 non-null   int64         \n",
      " 22  Sales                 9426 non-null   float64       \n",
      " 23  Order ID              9426 non-null   int64         \n",
      "dtypes: datetime64[ns](2), float64(6), int64(5), object(11)\n",
      "memory usage: 1.7+ MB\n"
     ]
    }
   ],
   "source": [
    "df.info()"
   ]
  },
  {
   "cell_type": "code",
   "execution_count": 148,
   "id": "f4d74740",
   "metadata": {},
   "outputs": [
    {
     "data": {
      "text/plain": [
       "(1634, 2)"
      ]
     },
     "execution_count": 148,
     "metadata": {},
     "output_type": "execute_result"
    }
   ],
   "source": [
    "returns.shape"
   ]
  },
  {
   "cell_type": "code",
   "execution_count": 10,
   "id": "068f785e",
   "metadata": {},
   "outputs": [
    {
     "data": {
      "text/html": [
       "<div>\n",
       "<style scoped>\n",
       "    .dataframe tbody tr th:only-of-type {\n",
       "        vertical-align: middle;\n",
       "    }\n",
       "\n",
       "    .dataframe tbody tr th {\n",
       "        vertical-align: top;\n",
       "    }\n",
       "\n",
       "    .dataframe thead th {\n",
       "        text-align: right;\n",
       "    }\n",
       "</style>\n",
       "<table border=\"1\" class=\"dataframe\">\n",
       "  <thead>\n",
       "    <tr style=\"text-align: right;\">\n",
       "      <th></th>\n",
       "      <th>Region</th>\n",
       "      <th>Manager</th>\n",
       "    </tr>\n",
       "  </thead>\n",
       "  <tbody>\n",
       "    <tr>\n",
       "      <th>0</th>\n",
       "      <td>Central</td>\n",
       "      <td>Chris</td>\n",
       "    </tr>\n",
       "    <tr>\n",
       "      <th>1</th>\n",
       "      <td>East</td>\n",
       "      <td>Erin</td>\n",
       "    </tr>\n",
       "    <tr>\n",
       "      <th>2</th>\n",
       "      <td>South</td>\n",
       "      <td>Sam</td>\n",
       "    </tr>\n",
       "    <tr>\n",
       "      <th>3</th>\n",
       "      <td>West</td>\n",
       "      <td>William</td>\n",
       "    </tr>\n",
       "  </tbody>\n",
       "</table>\n",
       "</div>"
      ],
      "text/plain": [
       "    Region  Manager\n",
       "0  Central    Chris\n",
       "1     East     Erin\n",
       "2    South      Sam\n",
       "3     West  William"
      ]
     },
     "execution_count": 10,
     "metadata": {},
     "output_type": "execute_result"
    }
   ],
   "source": [
    "users.head()"
   ]
  },
  {
   "cell_type": "code",
   "execution_count": 4,
   "id": "954e9344",
   "metadata": {},
   "outputs": [
    {
     "data": {
      "text/plain": [
       "Index(['Row ID', 'Order Priority', 'Discount', 'Unit Price', 'Shipping Cost',\n",
       "       'Customer ID', 'Customer Name', 'Ship Mode', 'Customer Segment',\n",
       "       'Product Category', 'Product Sub-Category', 'Product Container',\n",
       "       'Product Name', 'Product Base Margin', 'Region', 'State or Province',\n",
       "       'City', 'Postal Code', 'Order Date', 'Ship Date', 'Profit',\n",
       "       'Quantity ordered new', 'Sales', 'Order ID'],\n",
       "      dtype='object')"
      ]
     },
     "execution_count": 4,
     "metadata": {},
     "output_type": "execute_result"
    }
   ],
   "source": [
    "df.columns"
   ]
  },
  {
   "cell_type": "markdown",
   "id": "7f94cc9c",
   "metadata": {},
   "source": [
    "# Find out how return that we ahve recived and with a product id"
   ]
  },
  {
   "cell_type": "code",
   "execution_count": 28,
   "id": "578f0911",
   "metadata": {},
   "outputs": [
    {
     "data": {
      "text/html": [
       "<div>\n",
       "<style scoped>\n",
       "    .dataframe tbody tr th:only-of-type {\n",
       "        vertical-align: middle;\n",
       "    }\n",
       "\n",
       "    .dataframe tbody tr th {\n",
       "        vertical-align: top;\n",
       "    }\n",
       "\n",
       "    .dataframe thead th {\n",
       "        text-align: right;\n",
       "    }\n",
       "</style>\n",
       "<table border=\"1\" class=\"dataframe\">\n",
       "  <thead>\n",
       "    <tr style=\"text-align: right;\">\n",
       "      <th></th>\n",
       "      <th>Row ID</th>\n",
       "      <th>Status</th>\n",
       "    </tr>\n",
       "  </thead>\n",
       "  <tbody>\n",
       "    <tr>\n",
       "      <th>0</th>\n",
       "      <td>1359</td>\n",
       "      <td>Returned</td>\n",
       "    </tr>\n",
       "    <tr>\n",
       "      <th>1</th>\n",
       "      <td>1950</td>\n",
       "      <td>Returned</td>\n",
       "    </tr>\n",
       "    <tr>\n",
       "      <th>2</th>\n",
       "      <td>1951</td>\n",
       "      <td>Returned</td>\n",
       "    </tr>\n",
       "    <tr>\n",
       "      <th>3</th>\n",
       "      <td>5055</td>\n",
       "      <td>Returned</td>\n",
       "    </tr>\n",
       "    <tr>\n",
       "      <th>4</th>\n",
       "      <td>5573</td>\n",
       "      <td>Returned</td>\n",
       "    </tr>\n",
       "    <tr>\n",
       "      <th>...</th>\n",
       "      <td>...</td>\n",
       "      <td>...</td>\n",
       "    </tr>\n",
       "    <tr>\n",
       "      <th>93</th>\n",
       "      <td>986</td>\n",
       "      <td>Returned</td>\n",
       "    </tr>\n",
       "    <tr>\n",
       "      <th>94</th>\n",
       "      <td>987</td>\n",
       "      <td>Returned</td>\n",
       "    </tr>\n",
       "    <tr>\n",
       "      <th>95</th>\n",
       "      <td>6041</td>\n",
       "      <td>Returned</td>\n",
       "    </tr>\n",
       "    <tr>\n",
       "      <th>96</th>\n",
       "      <td>1910</td>\n",
       "      <td>Returned</td>\n",
       "    </tr>\n",
       "    <tr>\n",
       "      <th>97</th>\n",
       "      <td>6625</td>\n",
       "      <td>Returned</td>\n",
       "    </tr>\n",
       "  </tbody>\n",
       "</table>\n",
       "<p>98 rows × 2 columns</p>\n",
       "</div>"
      ],
      "text/plain": [
       "    Row ID    Status\n",
       "0     1359  Returned\n",
       "1     1950  Returned\n",
       "2     1951  Returned\n",
       "3     5055  Returned\n",
       "4     5573  Returned\n",
       "..     ...       ...\n",
       "93     986  Returned\n",
       "94     987  Returned\n",
       "95    6041  Returned\n",
       "96    1910  Returned\n",
       "97    6625  Returned\n",
       "\n",
       "[98 rows x 2 columns]"
      ]
     },
     "execution_count": 28,
     "metadata": {},
     "output_type": "execute_result"
    }
   ],
   "source": [
    "df.merge(returns,on='Order ID',how='inner')[['Row ID','Status']]"
   ]
  },
  {
   "cell_type": "markdown",
   "id": "ae60d1b6",
   "metadata": {},
   "source": [
    "# try  to join order and return data both in sql and pandas "
   ]
  },
  {
   "cell_type": "code",
   "execution_count": 152,
   "id": "3f7394e9",
   "metadata": {},
   "outputs": [],
   "source": [
    "df = df.merge(returns,how='outer')"
   ]
  },
  {
   "cell_type": "markdown",
   "id": "5a09068f",
   "metadata": {},
   "source": [
    "# Try to find out how many unique customer that we have "
   ]
  },
  {
   "cell_type": "code",
   "execution_count": 134,
   "id": "bc30e7e4",
   "metadata": {},
   "outputs": [
    {
     "data": {
      "text/plain": [
       "2703"
      ]
     },
     "execution_count": 134,
     "metadata": {},
     "output_type": "execute_result"
    }
   ],
   "source": [
    "df['Customer ID'].nunique()"
   ]
  },
  {
   "cell_type": "markdown",
   "id": "54aa4ec0",
   "metadata": {},
   "source": [
    "# try to find out in how many regions we are selling a product and who is a manager for a respective region"
   ]
  },
  {
   "cell_type": "code",
   "execution_count": 154,
   "id": "a3c7bd08",
   "metadata": {},
   "outputs": [
    {
     "data": {
      "text/plain": [
       "Region\n",
       "Central      [Chris]\n",
       "East          [Erin]\n",
       "South          [Sam]\n",
       "West       [William]\n",
       "Name: Manager, dtype: object"
      ]
     },
     "execution_count": 154,
     "metadata": {},
     "output_type": "execute_result"
    }
   ],
   "source": [
    "df['Region'].unique()\n",
    "# There are Four Regions and following are the respective managers\n",
    "df = df.merge(users,on='Region')\n",
    "df.groupby('Region')['Manager'].unique()"
   ]
  },
  {
   "cell_type": "markdown",
   "id": "784dfe5b",
   "metadata": {},
   "source": [
    "# find out how many different differnet shipement mode that we have and what is a percentage usablity of all the shipment mode with respect to dataset"
   ]
  },
  {
   "cell_type": "code",
   "execution_count": 155,
   "id": "068707e8",
   "metadata": {},
   "outputs": [
    {
     "name": "stdout",
     "output_type": "stream",
     "text": [
      "3\n",
      "['Regular Air' 'Express Air' 'Delivery Truck']\n"
     ]
    }
   ],
   "source": [
    "print(df['Ship Mode'].nunique())\n",
    "print(df['Ship Mode'].unique())"
   ]
  },
  {
   "cell_type": "code",
   "execution_count": 156,
   "id": "67447fb6",
   "metadata": {},
   "outputs": [
    {
     "data": {
      "text/html": [
       "<div>\n",
       "<style scoped>\n",
       "    .dataframe tbody tr th:only-of-type {\n",
       "        vertical-align: middle;\n",
       "    }\n",
       "\n",
       "    .dataframe tbody tr th {\n",
       "        vertical-align: top;\n",
       "    }\n",
       "\n",
       "    .dataframe thead th {\n",
       "        text-align: right;\n",
       "    }\n",
       "</style>\n",
       "<table border=\"1\" class=\"dataframe\">\n",
       "  <thead>\n",
       "    <tr style=\"text-align: right;\">\n",
       "      <th></th>\n",
       "      <th>Percent_usability</th>\n",
       "    </tr>\n",
       "    <tr>\n",
       "      <th>Ship Mode</th>\n",
       "      <th></th>\n",
       "    </tr>\n",
       "  </thead>\n",
       "  <tbody>\n",
       "    <tr>\n",
       "      <th>Delivery Truck</th>\n",
       "      <td>13.611288</td>\n",
       "    </tr>\n",
       "    <tr>\n",
       "      <th>Express Air</th>\n",
       "      <td>11.744112</td>\n",
       "    </tr>\n",
       "    <tr>\n",
       "      <th>Regular Air</th>\n",
       "      <td>74.644600</td>\n",
       "    </tr>\n",
       "  </tbody>\n",
       "</table>\n",
       "</div>"
      ],
      "text/plain": [
       "                Percent_usability\n",
       "Ship Mode                        \n",
       "Delivery Truck          13.611288\n",
       "Express Air             11.744112\n",
       "Regular Air             74.644600"
      ]
     },
     "execution_count": 156,
     "metadata": {},
     "output_type": "execute_result"
    }
   ],
   "source": [
    "percent_ship_mode = pd.DataFrame(df.groupby('Ship Mode')['Order ID'].count()/len(df) * 100)\n",
    "percent_ship_mode.columns = ['Percent_usability']\n",
    "percent_ship_mode"
   ]
  },
  {
   "cell_type": "markdown",
   "id": "1f08f7d9",
   "metadata": {},
   "source": [
    "# Create a new column and try to find our a diffrence between order date and shipment date"
   ]
  },
  {
   "cell_type": "code",
   "execution_count": 157,
   "id": "0df27bd6",
   "metadata": {},
   "outputs": [
    {
     "data": {
      "text/plain": [
       "0   -2 days\n",
       "1   -2 days\n",
       "2   -1 days\n",
       "3   -1 days\n",
       "4   -1 days\n",
       "Name: Shipment_duration, dtype: timedelta64[ns]"
      ]
     },
     "execution_count": 157,
     "metadata": {},
     "output_type": "execute_result"
    }
   ],
   "source": [
    "df['Shipment_duration'] = df['Order Date'] - df['Ship Date']\n",
    "df['Shipment_duration'].head()"
   ]
  },
  {
   "cell_type": "markdown",
   "id": "1cb24a35",
   "metadata": {},
   "source": [
    "# based on question number 8 find out for which order id we have shipment duration more than 10 days "
   ]
  },
  {
   "cell_type": "code",
   "execution_count": 158,
   "id": "1500d4c5",
   "metadata": {},
   "outputs": [
    {
     "data": {
      "text/html": [
       "<div>\n",
       "<style scoped>\n",
       "    .dataframe tbody tr th:only-of-type {\n",
       "        vertical-align: middle;\n",
       "    }\n",
       "\n",
       "    .dataframe tbody tr th {\n",
       "        vertical-align: top;\n",
       "    }\n",
       "\n",
       "    .dataframe thead th {\n",
       "        text-align: right;\n",
       "    }\n",
       "</style>\n",
       "<table border=\"1\" class=\"dataframe\">\n",
       "  <thead>\n",
       "    <tr style=\"text-align: right;\">\n",
       "      <th></th>\n",
       "      <th>Order ID</th>\n",
       "      <th>Shipment_duration</th>\n",
       "    </tr>\n",
       "  </thead>\n",
       "  <tbody>\n",
       "    <tr>\n",
       "      <th>189</th>\n",
       "      <td>87215</td>\n",
       "      <td>-84 days</td>\n",
       "    </tr>\n",
       "    <tr>\n",
       "      <th>459</th>\n",
       "      <td>86318</td>\n",
       "      <td>-11 days</td>\n",
       "    </tr>\n",
       "    <tr>\n",
       "      <th>460</th>\n",
       "      <td>86318</td>\n",
       "      <td>-15 days</td>\n",
       "    </tr>\n",
       "    <tr>\n",
       "      <th>1726</th>\n",
       "      <td>88223</td>\n",
       "      <td>-14 days</td>\n",
       "    </tr>\n",
       "    <tr>\n",
       "      <th>3476</th>\n",
       "      <td>87957</td>\n",
       "      <td>-17 days</td>\n",
       "    </tr>\n",
       "    <tr>\n",
       "      <th>3477</th>\n",
       "      <td>87957</td>\n",
       "      <td>-11 days</td>\n",
       "    </tr>\n",
       "    <tr>\n",
       "      <th>3478</th>\n",
       "      <td>87957</td>\n",
       "      <td>-28 days</td>\n",
       "    </tr>\n",
       "    <tr>\n",
       "      <th>3495</th>\n",
       "      <td>19556</td>\n",
       "      <td>-17 days</td>\n",
       "    </tr>\n",
       "    <tr>\n",
       "      <th>3496</th>\n",
       "      <td>19556</td>\n",
       "      <td>-11 days</td>\n",
       "    </tr>\n",
       "    <tr>\n",
       "      <th>3497</th>\n",
       "      <td>19556</td>\n",
       "      <td>-28 days</td>\n",
       "    </tr>\n",
       "    <tr>\n",
       "      <th>3826</th>\n",
       "      <td>86177</td>\n",
       "      <td>-92 days</td>\n",
       "    </tr>\n",
       "    <tr>\n",
       "      <th>4476</th>\n",
       "      <td>91294</td>\n",
       "      <td>-24 days</td>\n",
       "    </tr>\n",
       "    <tr>\n",
       "      <th>6639</th>\n",
       "      <td>88352</td>\n",
       "      <td>-17 days</td>\n",
       "    </tr>\n",
       "    <tr>\n",
       "      <th>7306</th>\n",
       "      <td>87300</td>\n",
       "      <td>-27 days</td>\n",
       "    </tr>\n",
       "    <tr>\n",
       "      <th>7307</th>\n",
       "      <td>87300</td>\n",
       "      <td>-31 days</td>\n",
       "    </tr>\n",
       "    <tr>\n",
       "      <th>7316</th>\n",
       "      <td>19841</td>\n",
       "      <td>-27 days</td>\n",
       "    </tr>\n",
       "    <tr>\n",
       "      <th>7317</th>\n",
       "      <td>19841</td>\n",
       "      <td>-31 days</td>\n",
       "    </tr>\n",
       "    <tr>\n",
       "      <th>7318</th>\n",
       "      <td>19841</td>\n",
       "      <td>-19 days</td>\n",
       "    </tr>\n",
       "    <tr>\n",
       "      <th>8435</th>\n",
       "      <td>87572</td>\n",
       "      <td>-22 days</td>\n",
       "    </tr>\n",
       "    <tr>\n",
       "      <th>9184</th>\n",
       "      <td>86434</td>\n",
       "      <td>-18 days</td>\n",
       "    </tr>\n",
       "    <tr>\n",
       "      <th>9186</th>\n",
       "      <td>86436</td>\n",
       "      <td>-17 days</td>\n",
       "    </tr>\n",
       "    <tr>\n",
       "      <th>9187</th>\n",
       "      <td>86436</td>\n",
       "      <td>-19 days</td>\n",
       "    </tr>\n",
       "    <tr>\n",
       "      <th>9307</th>\n",
       "      <td>87300</td>\n",
       "      <td>-19 days</td>\n",
       "    </tr>\n",
       "  </tbody>\n",
       "</table>\n",
       "</div>"
      ],
      "text/plain": [
       "      Order ID Shipment_duration\n",
       "189      87215          -84 days\n",
       "459      86318          -11 days\n",
       "460      86318          -15 days\n",
       "1726     88223          -14 days\n",
       "3476     87957          -17 days\n",
       "3477     87957          -11 days\n",
       "3478     87957          -28 days\n",
       "3495     19556          -17 days\n",
       "3496     19556          -11 days\n",
       "3497     19556          -28 days\n",
       "3826     86177          -92 days\n",
       "4476     91294          -24 days\n",
       "6639     88352          -17 days\n",
       "7306     87300          -27 days\n",
       "7307     87300          -31 days\n",
       "7316     19841          -27 days\n",
       "7317     19841          -31 days\n",
       "7318     19841          -19 days\n",
       "8435     87572          -22 days\n",
       "9184     86434          -18 days\n",
       "9186     86436          -17 days\n",
       "9187     86436          -19 days\n",
       "9307     87300          -19 days"
      ]
     },
     "execution_count": 158,
     "metadata": {},
     "output_type": "execute_result"
    }
   ],
   "source": [
    "df[df['Shipment_duration'] < pd.Timedelta('- 10 days')][['Order ID','Shipment_duration']]"
   ]
  },
  {
   "cell_type": "markdown",
   "id": "228ad023",
   "metadata": {},
   "source": [
    "# Try to find out a list of a returned order which sihpment duration was more then 15 days and find out that region manager as well"
   ]
  },
  {
   "cell_type": "code",
   "execution_count": 163,
   "id": "2aa9eb39",
   "metadata": {},
   "outputs": [
    {
     "data": {
      "text/html": [
       "<div>\n",
       "<style scoped>\n",
       "    .dataframe tbody tr th:only-of-type {\n",
       "        vertical-align: middle;\n",
       "    }\n",
       "\n",
       "    .dataframe tbody tr th {\n",
       "        vertical-align: top;\n",
       "    }\n",
       "\n",
       "    .dataframe thead th {\n",
       "        text-align: right;\n",
       "    }\n",
       "</style>\n",
       "<table border=\"1\" class=\"dataframe\">\n",
       "  <thead>\n",
       "    <tr style=\"text-align: right;\">\n",
       "      <th></th>\n",
       "      <th>Order ID</th>\n",
       "      <th>Shipment_duration</th>\n",
       "      <th>Manager</th>\n",
       "    </tr>\n",
       "  </thead>\n",
       "  <tbody>\n",
       "    <tr>\n",
       "      <th>3814</th>\n",
       "      <td>51559</td>\n",
       "      <td>-9 days</td>\n",
       "      <td>William</td>\n",
       "    </tr>\n",
       "    <tr>\n",
       "      <th>4873</th>\n",
       "      <td>32931</td>\n",
       "      <td>-7 days</td>\n",
       "      <td>William</td>\n",
       "    </tr>\n",
       "    <tr>\n",
       "      <th>6054</th>\n",
       "      <td>41760</td>\n",
       "      <td>-7 days</td>\n",
       "      <td>Erin</td>\n",
       "    </tr>\n",
       "  </tbody>\n",
       "</table>\n",
       "</div>"
      ],
      "text/plain": [
       "      Order ID Shipment_duration  Manager\n",
       "3814     51559           -9 days  William\n",
       "4873     32931           -7 days  William\n",
       "6054     41760           -7 days     Erin"
      ]
     },
     "execution_count": 163,
     "metadata": {},
     "output_type": "execute_result"
    }
   ],
   "source": [
    "df[(df['Status'] == 'Returned') & (df['Shipment_duration'] < pd.Timedelta('-5 days'))][['Order ID','Shipment_duration','Manager']]"
   ]
  },
  {
   "cell_type": "markdown",
   "id": "a2e2de38",
   "metadata": {},
   "source": [
    "# Group by region and find out which region is more profitable"
   ]
  },
  {
   "cell_type": "code",
   "execution_count": 176,
   "id": "e113061a",
   "metadata": {},
   "outputs": [
    {
     "data": {
      "text/plain": [
       "Region\n",
       "Central    519825.567067\n",
       "East       377566.186045\n",
       "West       310849.453897\n",
       "South      104201.192420\n",
       "Name: Profit, dtype: float64"
      ]
     },
     "execution_count": 176,
     "metadata": {},
     "output_type": "execute_result"
    }
   ],
   "source": [
    "df.groupby('Region')['Profit'].sum().sort_values(ascending =False)"
   ]
  },
  {
   "cell_type": "code",
   "execution_count": 179,
   "id": "18e00fe9",
   "metadata": {},
   "outputs": [
    {
     "data": {
      "text/plain": [
       "Region\n",
       "Central    519825.567067\n",
       "Name: Profit, dtype: float64"
      ]
     },
     "execution_count": 179,
     "metadata": {},
     "output_type": "execute_result"
    }
   ],
   "source": [
    "# Most profitable \n",
    "df.groupby('Region')['Profit'].sum().sort_values(ascending =False).head(1)"
   ]
  },
  {
   "cell_type": "markdown",
   "id": "0b1aff32",
   "metadata": {},
   "source": [
    "# Try to find out overal in which country we are giving more discount "
   ]
  },
  {
   "cell_type": "code",
   "execution_count": 196,
   "id": "342e324c",
   "metadata": {},
   "outputs": [
    {
     "data": {
      "text/plain": [
       "State or Province\n",
       "Illinois    0.25\n",
       "Name: Discount, dtype: float64"
      ]
     },
     "execution_count": 196,
     "metadata": {},
     "output_type": "execute_result"
    }
   ],
   "source": [
    "df.groupby('State or Province')['Discount'].max().sort_values(ascending =False).head(1)"
   ]
  },
  {
   "cell_type": "code",
   "execution_count": 202,
   "id": "2b67d9ba",
   "metadata": {},
   "outputs": [
    {
     "data": {
      "text/html": [
       "<div>\n",
       "<style scoped>\n",
       "    .dataframe tbody tr th:only-of-type {\n",
       "        vertical-align: middle;\n",
       "    }\n",
       "\n",
       "    .dataframe tbody tr th {\n",
       "        vertical-align: top;\n",
       "    }\n",
       "\n",
       "    .dataframe thead th {\n",
       "        text-align: right;\n",
       "    }\n",
       "</style>\n",
       "<table border=\"1\" class=\"dataframe\">\n",
       "  <thead>\n",
       "    <tr style=\"text-align: right;\">\n",
       "      <th></th>\n",
       "      <th>Row ID</th>\n",
       "      <th>Order Priority</th>\n",
       "      <th>Discount</th>\n",
       "      <th>Unit Price</th>\n",
       "      <th>Shipping Cost</th>\n",
       "      <th>Customer ID</th>\n",
       "      <th>Customer Name</th>\n",
       "      <th>Ship Mode</th>\n",
       "      <th>Customer Segment</th>\n",
       "      <th>Product Category</th>\n",
       "      <th>...</th>\n",
       "      <th>Postal Code</th>\n",
       "      <th>Order Date</th>\n",
       "      <th>Ship Date</th>\n",
       "      <th>Profit</th>\n",
       "      <th>Quantity ordered new</th>\n",
       "      <th>Sales</th>\n",
       "      <th>Order ID</th>\n",
       "      <th>Shipment_duration</th>\n",
       "      <th>Status</th>\n",
       "      <th>Manager</th>\n",
       "    </tr>\n",
       "  </thead>\n",
       "  <tbody>\n",
       "    <tr>\n",
       "      <th>2740</th>\n",
       "      <td>18176.0</td>\n",
       "      <td>Critical</td>\n",
       "      <td>0.25</td>\n",
       "      <td>71.37</td>\n",
       "      <td>69.0</td>\n",
       "      <td>3131.0</td>\n",
       "      <td>Jonathan Reilly</td>\n",
       "      <td>Regular Air</td>\n",
       "      <td>Home Office</td>\n",
       "      <td>Furniture</td>\n",
       "      <td>...</td>\n",
       "      <td>60056.0</td>\n",
       "      <td>2013-02-14</td>\n",
       "      <td>2013-02-16</td>\n",
       "      <td>-481.041</td>\n",
       "      <td>3.0</td>\n",
       "      <td>181.03</td>\n",
       "      <td>86802</td>\n",
       "      <td>-2 days</td>\n",
       "      <td>NaN</td>\n",
       "      <td>Chris</td>\n",
       "    </tr>\n",
       "  </tbody>\n",
       "</table>\n",
       "<p>1 rows × 27 columns</p>\n",
       "</div>"
      ],
      "text/plain": [
       "       Row ID Order Priority  Discount  Unit Price  Shipping Cost  \\\n",
       "2740  18176.0       Critical      0.25       71.37           69.0   \n",
       "\n",
       "      Customer ID    Customer Name    Ship Mode Customer Segment  \\\n",
       "2740       3131.0  Jonathan Reilly  Regular Air      Home Office   \n",
       "\n",
       "     Product Category  ... Postal Code Order Date  Ship Date   Profit  \\\n",
       "2740        Furniture  ...     60056.0 2013-02-14 2013-02-16 -481.041   \n",
       "\n",
       "     Quantity ordered new   Sales Order ID  Shipment_duration Status Manager  \n",
       "2740                  3.0  181.03    86802            -2 days    NaN   Chris  \n",
       "\n",
       "[1 rows x 27 columns]"
      ]
     },
     "execution_count": 202,
     "metadata": {},
     "output_type": "execute_result"
    }
   ],
   "source": [
    "# Alternate method\n",
    "df[df['Discount'] == df['Discount'].max()]"
   ]
  },
  {
   "cell_type": "markdown",
   "id": "20188b01",
   "metadata": {},
   "source": [
    "# Give me a list of unique postal code "
   ]
  },
  {
   "cell_type": "code",
   "execution_count": 205,
   "id": "b7a906ae",
   "metadata": {},
   "outputs": [
    {
     "data": {
      "text/plain": [
       "array([60101., 55372., 68005., ..., 30144., 30240., 31204.])"
      ]
     },
     "execution_count": 205,
     "metadata": {},
     "output_type": "execute_result"
    }
   ],
   "source": [
    "df['Postal Code'].unique()"
   ]
  },
  {
   "cell_type": "markdown",
   "id": "33df18bb",
   "metadata": {},
   "source": [
    "# which customer segement is more profitalble find it out"
   ]
  },
  {
   "cell_type": "code",
   "execution_count": 217,
   "id": "44905237",
   "metadata": {},
   "outputs": [
    {
     "data": {
      "text/plain": [
       "Customer Segment\n",
       "Corporate         505538.627783\n",
       "Small Business    316474.592482\n",
       "Home Office       283869.553814\n",
       "Consumer          206559.625348\n",
       "Name: Profit, dtype: float64"
      ]
     },
     "execution_count": 217,
     "metadata": {},
     "output_type": "execute_result"
    }
   ],
   "source": [
    "df.groupby('Customer Segment')['Profit'].sum().sort_values(ascending = False)"
   ]
  },
  {
   "cell_type": "code",
   "execution_count": 218,
   "id": "18fc22d1",
   "metadata": {},
   "outputs": [
    {
     "data": {
      "text/plain": [
       "Customer Segment\n",
       "Corporate    505538.627783\n",
       "Name: Profit, dtype: float64"
      ]
     },
     "execution_count": 218,
     "metadata": {},
     "output_type": "execute_result"
    }
   ],
   "source": [
    "df.groupby('Customer Segment')['Profit'].sum().sort_values(ascending = False).head(1)"
   ]
  },
  {
   "cell_type": "markdown",
   "id": "ee5ef6df",
   "metadata": {},
   "source": [
    "# try to find out the 10th most loss making product catagory"
   ]
  },
  {
   "cell_type": "code",
   "execution_count": 238,
   "id": "96e41ede",
   "metadata": {},
   "outputs": [
    {
     "data": {
      "text/plain": [
       "Profit   -9543.6525\n",
       "Name: Eldon ClusterMat Chair Mat with Cordless Antistatic Protection, dtype: float64"
      ]
     },
     "execution_count": 238,
     "metadata": {},
     "output_type": "execute_result"
    }
   ],
   "source": [
    "pd.DataFrame(df.groupby('Product Name')['Profit'].sum().sort_values(ascending = True)).iloc[9]"
   ]
  },
  {
   "cell_type": "markdown",
   "id": "11ce2d70",
   "metadata": {},
   "source": [
    "# Try to find out 10 top  product with highest margins "
   ]
  },
  {
   "cell_type": "code",
   "execution_count": 256,
   "id": "92196c55",
   "metadata": {},
   "outputs": [
    {
     "data": {
      "text/plain": [
       "Product Name\n",
       "Sterling Rubber Bands by Alliance                                             0.85\n",
       "Belkin OmniView SE Rackmount Kit                                              0.85\n",
       "Office Impressions Heavy Duty Welded Shelving & Multimedia Storage Drawers    0.85\n",
       "Accessory27                                                                   0.85\n",
       "Accessory4                                                                    0.85\n",
       "Tennsco Commercial Shelving                                                   0.84\n",
       "Serrated Blade or Curved Handle Hand Letter Openers                           0.84\n",
       "Tennsco Stur-D-Stor Boltless Shelving, 5 Shelves, 24\" Deep, Sand              0.84\n",
       "Accessory36                                                                   0.83\n",
       "Fellowes Officeware™ Wire Shelving                                            0.83\n",
       "Name: Product Base Margin, dtype: float64"
      ]
     },
     "execution_count": 256,
     "metadata": {},
     "output_type": "execute_result"
    }
   ],
   "source": [
    "df.groupby('Product Name')['Product Base Margin'].mean().sort_values(ascending = False).head(10)"
   ]
  },
  {
   "cell_type": "code",
   "execution_count": null,
   "id": "de05295c",
   "metadata": {},
   "outputs": [],
   "source": []
  },
  {
   "cell_type": "code",
   "execution_count": null,
   "id": "c747abb7",
   "metadata": {},
   "outputs": [],
   "source": []
  }
 ],
 "metadata": {
  "kernelspec": {
   "display_name": "Python 3",
   "language": "python",
   "name": "python3"
  },
  "language_info": {
   "codemirror_mode": {
    "name": "ipython",
    "version": 3
   },
   "file_extension": ".py",
   "mimetype": "text/x-python",
   "name": "python",
   "nbconvert_exporter": "python",
   "pygments_lexer": "ipython3",
   "version": "3.8.8"
  }
 },
 "nbformat": 4,
 "nbformat_minor": 5
}
