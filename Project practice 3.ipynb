{
 "cells": [
  {
   "cell_type": "markdown",
   "id": "511d9e0a",
   "metadata": {},
   "source": [
    "# Importing relevant libraries"
   ]
  },
  {
   "cell_type": "code",
   "execution_count": 1,
   "id": "09246389",
   "metadata": {},
   "outputs": [],
   "source": [
    "import pandas as pd\n",
    "import numpy as np\n",
    "import seaborn as sns\n",
    "import matplotlib.pyplot as plt\n",
    "from sklearn.pipeline import Pipeline\n",
    "from sklearn.preprocessing import RobustScaler\n",
    "from sklearn.svm import LinearSVC\n",
    "from sklearn.linear_model import LogisticRegression\n",
    "from sklearn.decomposition import PCA\n",
    "from sklearn.preprocessing import RobustScaler\n",
    "from sklearn.model_selection import train_test_split\n",
    "from sklearn.metrics import confusion_matrix,accuracy_score,precision_score,f1_score,recall_score,roc_curve,classification_report"
   ]
  },
  {
   "cell_type": "markdown",
   "id": "a00cb2fc",
   "metadata": {},
   "source": [
    "# defining a class for model evaluation"
   ]
  },
  {
   "cell_type": "code",
   "execution_count": 2,
   "id": "29dbe2c3",
   "metadata": {},
   "outputs": [],
   "source": [
    "class evaluation:\n",
    "    def __init__(self,true,predicted):\n",
    "        self.true_values = true\n",
    "        self.predicted_values = predicted\n",
    "    \n",
    "    def evaluate(self):\n",
    "        self.accuracy = accuracy_score(self.true_values,self.predicted_values)\n",
    "        self.precision = precision_score(self.true_values,self.predicted_values)\n",
    "        self.f1_score = f1_score(self.true_values,self.predicted_values)\n",
    "        self.recall = recall_score(self.true_values,self.predicted_values)\n",
    "        return print(\"Accuracy : {}\\nPrecision: {}\\nF1: {}\\nRecall : {}\".format(self.accuracy,self.precision,self.f1_score,self.recall))\n",
    "    \n",
    "    def confusion(self):\n",
    "        return confusion_matrix(self.true_values,self.predicted_values)\n",
    "    \n",
    "    def class_report(self):\n",
    "        return print(classification_report(self.true_values,self.predicted_values))\n",
    "    "
   ]
  },
  {
   "cell_type": "markdown",
   "id": "43105352",
   "metadata": {},
   "source": [
    "# Loading the dataset"
   ]
  },
  {
   "cell_type": "code",
   "execution_count": 3,
   "id": "a2f22a24",
   "metadata": {},
   "outputs": [],
   "source": [
    "from sklearn.datasets import load_breast_cancer\n",
    "cancer = load_breast_cancer()"
   ]
  },
  {
   "cell_type": "markdown",
   "id": "eeac88d5",
   "metadata": {},
   "source": [
    "# Splitting the dataset into independent features and target variable"
   ]
  },
  {
   "cell_type": "code",
   "execution_count": 4,
   "id": "b5fd2d37",
   "metadata": {},
   "outputs": [],
   "source": [
    "data_frame = pd.DataFrame(data = cancer.data, columns=cancer.feature_names)\n",
    "data_frame['target'] = cancer.target\n",
    "df = data_frame.copy()\n",
    "X = df.iloc[:,:-1]\n",
    "y = df.iloc[:,-1]"
   ]
  },
  {
   "cell_type": "code",
   "execution_count": 5,
   "id": "44e9ca5c",
   "metadata": {},
   "outputs": [
    {
     "data": {
      "text/plain": [
       "((569, 30), (569,))"
      ]
     },
     "execution_count": 5,
     "metadata": {},
     "output_type": "execute_result"
    }
   ],
   "source": [
    "X.shape,y.shape"
   ]
  },
  {
   "cell_type": "markdown",
   "id": "bc2c99b2",
   "metadata": {},
   "source": [
    "# Scaling the data"
   ]
  },
  {
   "cell_type": "code",
   "execution_count": 6,
   "id": "232f474a",
   "metadata": {},
   "outputs": [
    {
     "data": {
      "text/plain": [
       "(569, 30)"
      ]
     },
     "execution_count": 6,
     "metadata": {},
     "output_type": "execute_result"
    }
   ],
   "source": [
    "scaler = RobustScaler()\n",
    "X = scaler.fit_transform(X)\n",
    "X.shape"
   ]
  },
  {
   "cell_type": "markdown",
   "id": "54669baf",
   "metadata": {},
   "source": [
    "# Using principal component analysis to reduce the number of features"
   ]
  },
  {
   "cell_type": "code",
   "execution_count": 7,
   "id": "48d5097a",
   "metadata": {},
   "outputs": [
    {
     "data": {
      "text/plain": [
       "(569, 15)"
      ]
     },
     "execution_count": 7,
     "metadata": {},
     "output_type": "execute_result"
    }
   ],
   "source": [
    "pca = PCA(n_components=15,random_state=42)\n",
    "reduced_X = pca.fit_transform(X)\n",
    "reduced_X.shape"
   ]
  },
  {
   "cell_type": "markdown",
   "id": "35af8f6b",
   "metadata": {},
   "source": [
    "# Splitting the data into train and test data and using LazyPredict to compare different algorithms"
   ]
  },
  {
   "cell_type": "code",
   "execution_count": 8,
   "id": "10ed5ccc",
   "metadata": {},
   "outputs": [],
   "source": [
    "X_train, X_test, y_train, y_test = train_test_split(reduced_X,y,test_size=0.2,random_state=42)"
   ]
  },
  {
   "cell_type": "code",
   "execution_count": 9,
   "id": "c0f57ab0",
   "metadata": {},
   "outputs": [
    {
     "name": "stderr",
     "output_type": "stream",
     "text": [
      "100%|██████████████████████████████████████████████████████████████████████████████████| 29/29 [00:01<00:00, 26.61it/s]\n"
     ]
    }
   ],
   "source": [
    "from lazypredict.Supervised import LazyClassifier\n",
    "classifiers = LazyClassifier(verbose=0,ignore_warnings=True, custom_metric=None)\n",
    "models,predictions = classifiers.fit(X_train,X_test,y_train,y_test)"
   ]
  },
  {
   "cell_type": "code",
   "execution_count": 24,
   "id": "40e25bd1",
   "metadata": {},
   "outputs": [
    {
     "data": {
      "text/html": [
       "<div>\n",
       "<style scoped>\n",
       "    .dataframe tbody tr th:only-of-type {\n",
       "        vertical-align: middle;\n",
       "    }\n",
       "\n",
       "    .dataframe tbody tr th {\n",
       "        vertical-align: top;\n",
       "    }\n",
       "\n",
       "    .dataframe thead th {\n",
       "        text-align: right;\n",
       "    }\n",
       "</style>\n",
       "<table border=\"1\" class=\"dataframe\">\n",
       "  <thead>\n",
       "    <tr style=\"text-align: right;\">\n",
       "      <th></th>\n",
       "      <th>Accuracy</th>\n",
       "      <th>Balanced Accuracy</th>\n",
       "      <th>ROC AUC</th>\n",
       "      <th>F1 Score</th>\n",
       "      <th>Time Taken</th>\n",
       "    </tr>\n",
       "    <tr>\n",
       "      <th>Model</th>\n",
       "      <th></th>\n",
       "      <th></th>\n",
       "      <th></th>\n",
       "      <th></th>\n",
       "      <th></th>\n",
       "    </tr>\n",
       "  </thead>\n",
       "  <tbody>\n",
       "    <tr>\n",
       "      <th>Perceptron</th>\n",
       "      <td>0.98</td>\n",
       "      <td>0.98</td>\n",
       "      <td>0.98</td>\n",
       "      <td>0.98</td>\n",
       "      <td>0.01</td>\n",
       "    </tr>\n",
       "    <tr>\n",
       "      <th>LinearSVC</th>\n",
       "      <td>0.98</td>\n",
       "      <td>0.98</td>\n",
       "      <td>0.98</td>\n",
       "      <td>0.98</td>\n",
       "      <td>0.01</td>\n",
       "    </tr>\n",
       "    <tr>\n",
       "      <th>CalibratedClassifierCV</th>\n",
       "      <td>0.97</td>\n",
       "      <td>0.97</td>\n",
       "      <td>0.97</td>\n",
       "      <td>0.97</td>\n",
       "      <td>0.04</td>\n",
       "    </tr>\n",
       "    <tr>\n",
       "      <th>LogisticRegression</th>\n",
       "      <td>0.97</td>\n",
       "      <td>0.97</td>\n",
       "      <td>0.97</td>\n",
       "      <td>0.97</td>\n",
       "      <td>0.01</td>\n",
       "    </tr>\n",
       "    <tr>\n",
       "      <th>XGBClassifier</th>\n",
       "      <td>0.96</td>\n",
       "      <td>0.96</td>\n",
       "      <td>0.96</td>\n",
       "      <td>0.96</td>\n",
       "      <td>0.09</td>\n",
       "    </tr>\n",
       "    <tr>\n",
       "      <th>ExtraTreesClassifier</th>\n",
       "      <td>0.96</td>\n",
       "      <td>0.96</td>\n",
       "      <td>0.96</td>\n",
       "      <td>0.96</td>\n",
       "      <td>0.13</td>\n",
       "    </tr>\n",
       "    <tr>\n",
       "      <th>NearestCentroid</th>\n",
       "      <td>0.96</td>\n",
       "      <td>0.96</td>\n",
       "      <td>0.96</td>\n",
       "      <td>0.96</td>\n",
       "      <td>0.06</td>\n",
       "    </tr>\n",
       "    <tr>\n",
       "      <th>AdaBoostClassifier</th>\n",
       "      <td>0.96</td>\n",
       "      <td>0.96</td>\n",
       "      <td>0.96</td>\n",
       "      <td>0.96</td>\n",
       "      <td>0.13</td>\n",
       "    </tr>\n",
       "    <tr>\n",
       "      <th>RandomForestClassifier</th>\n",
       "      <td>0.96</td>\n",
       "      <td>0.96</td>\n",
       "      <td>0.96</td>\n",
       "      <td>0.96</td>\n",
       "      <td>0.24</td>\n",
       "    </tr>\n",
       "    <tr>\n",
       "      <th>SGDClassifier</th>\n",
       "      <td>0.96</td>\n",
       "      <td>0.96</td>\n",
       "      <td>0.96</td>\n",
       "      <td>0.96</td>\n",
       "      <td>0.01</td>\n",
       "    </tr>\n",
       "    <tr>\n",
       "      <th>RidgeClassifierCV</th>\n",
       "      <td>0.96</td>\n",
       "      <td>0.95</td>\n",
       "      <td>0.95</td>\n",
       "      <td>0.96</td>\n",
       "      <td>0.01</td>\n",
       "    </tr>\n",
       "    <tr>\n",
       "      <th>LinearDiscriminantAnalysis</th>\n",
       "      <td>0.96</td>\n",
       "      <td>0.95</td>\n",
       "      <td>0.95</td>\n",
       "      <td>0.96</td>\n",
       "      <td>0.01</td>\n",
       "    </tr>\n",
       "    <tr>\n",
       "      <th>RidgeClassifier</th>\n",
       "      <td>0.96</td>\n",
       "      <td>0.95</td>\n",
       "      <td>0.95</td>\n",
       "      <td>0.96</td>\n",
       "      <td>0.01</td>\n",
       "    </tr>\n",
       "    <tr>\n",
       "      <th>PassiveAggressiveClassifier</th>\n",
       "      <td>0.96</td>\n",
       "      <td>0.95</td>\n",
       "      <td>0.95</td>\n",
       "      <td>0.96</td>\n",
       "      <td>0.01</td>\n",
       "    </tr>\n",
       "    <tr>\n",
       "      <th>LGBMClassifier</th>\n",
       "      <td>0.96</td>\n",
       "      <td>0.95</td>\n",
       "      <td>0.95</td>\n",
       "      <td>0.96</td>\n",
       "      <td>0.07</td>\n",
       "    </tr>\n",
       "    <tr>\n",
       "      <th>BaggingClassifier</th>\n",
       "      <td>0.95</td>\n",
       "      <td>0.95</td>\n",
       "      <td>0.95</td>\n",
       "      <td>0.95</td>\n",
       "      <td>0.06</td>\n",
       "    </tr>\n",
       "    <tr>\n",
       "      <th>BernoulliNB</th>\n",
       "      <td>0.95</td>\n",
       "      <td>0.94</td>\n",
       "      <td>0.94</td>\n",
       "      <td>0.95</td>\n",
       "      <td>0.01</td>\n",
       "    </tr>\n",
       "    <tr>\n",
       "      <th>DecisionTreeClassifier</th>\n",
       "      <td>0.94</td>\n",
       "      <td>0.94</td>\n",
       "      <td>0.94</td>\n",
       "      <td>0.94</td>\n",
       "      <td>0.01</td>\n",
       "    </tr>\n",
       "    <tr>\n",
       "      <th>QuadraticDiscriminantAnalysis</th>\n",
       "      <td>0.94</td>\n",
       "      <td>0.93</td>\n",
       "      <td>0.93</td>\n",
       "      <td>0.94</td>\n",
       "      <td>0.01</td>\n",
       "    </tr>\n",
       "    <tr>\n",
       "      <th>SVC</th>\n",
       "      <td>0.95</td>\n",
       "      <td>0.93</td>\n",
       "      <td>0.93</td>\n",
       "      <td>0.95</td>\n",
       "      <td>0.02</td>\n",
       "    </tr>\n",
       "    <tr>\n",
       "      <th>NuSVC</th>\n",
       "      <td>0.94</td>\n",
       "      <td>0.92</td>\n",
       "      <td>0.92</td>\n",
       "      <td>0.94</td>\n",
       "      <td>0.03</td>\n",
       "    </tr>\n",
       "    <tr>\n",
       "      <th>GaussianNB</th>\n",
       "      <td>0.90</td>\n",
       "      <td>0.89</td>\n",
       "      <td>0.89</td>\n",
       "      <td>0.90</td>\n",
       "      <td>0.01</td>\n",
       "    </tr>\n",
       "    <tr>\n",
       "      <th>LabelSpreading</th>\n",
       "      <td>0.86</td>\n",
       "      <td>0.83</td>\n",
       "      <td>0.83</td>\n",
       "      <td>0.86</td>\n",
       "      <td>0.02</td>\n",
       "    </tr>\n",
       "    <tr>\n",
       "      <th>LabelPropagation</th>\n",
       "      <td>0.86</td>\n",
       "      <td>0.83</td>\n",
       "      <td>0.83</td>\n",
       "      <td>0.86</td>\n",
       "      <td>0.02</td>\n",
       "    </tr>\n",
       "    <tr>\n",
       "      <th>KNeighborsClassifier</th>\n",
       "      <td>0.86</td>\n",
       "      <td>0.82</td>\n",
       "      <td>0.82</td>\n",
       "      <td>0.85</td>\n",
       "      <td>0.02</td>\n",
       "    </tr>\n",
       "    <tr>\n",
       "      <th>ExtraTreeClassifier</th>\n",
       "      <td>0.75</td>\n",
       "      <td>0.73</td>\n",
       "      <td>0.73</td>\n",
       "      <td>0.75</td>\n",
       "      <td>0.01</td>\n",
       "    </tr>\n",
       "    <tr>\n",
       "      <th>DummyClassifier</th>\n",
       "      <td>0.62</td>\n",
       "      <td>0.50</td>\n",
       "      <td>0.50</td>\n",
       "      <td>0.48</td>\n",
       "      <td>0.01</td>\n",
       "    </tr>\n",
       "  </tbody>\n",
       "</table>\n",
       "</div>"
      ],
      "text/plain": [
       "                               Accuracy  Balanced Accuracy  ROC AUC  F1 Score  \\\n",
       "Model                                                                           \n",
       "Perceptron                         0.98               0.98     0.98      0.98   \n",
       "LinearSVC                          0.98               0.98     0.98      0.98   \n",
       "CalibratedClassifierCV             0.97               0.97     0.97      0.97   \n",
       "LogisticRegression                 0.97               0.97     0.97      0.97   \n",
       "XGBClassifier                      0.96               0.96     0.96      0.96   \n",
       "ExtraTreesClassifier               0.96               0.96     0.96      0.96   \n",
       "NearestCentroid                    0.96               0.96     0.96      0.96   \n",
       "AdaBoostClassifier                 0.96               0.96     0.96      0.96   \n",
       "RandomForestClassifier             0.96               0.96     0.96      0.96   \n",
       "SGDClassifier                      0.96               0.96     0.96      0.96   \n",
       "RidgeClassifierCV                  0.96               0.95     0.95      0.96   \n",
       "LinearDiscriminantAnalysis         0.96               0.95     0.95      0.96   \n",
       "RidgeClassifier                    0.96               0.95     0.95      0.96   \n",
       "PassiveAggressiveClassifier        0.96               0.95     0.95      0.96   \n",
       "LGBMClassifier                     0.96               0.95     0.95      0.96   \n",
       "BaggingClassifier                  0.95               0.95     0.95      0.95   \n",
       "BernoulliNB                        0.95               0.94     0.94      0.95   \n",
       "DecisionTreeClassifier             0.94               0.94     0.94      0.94   \n",
       "QuadraticDiscriminantAnalysis      0.94               0.93     0.93      0.94   \n",
       "SVC                                0.95               0.93     0.93      0.95   \n",
       "NuSVC                              0.94               0.92     0.92      0.94   \n",
       "GaussianNB                         0.90               0.89     0.89      0.90   \n",
       "LabelSpreading                     0.86               0.83     0.83      0.86   \n",
       "LabelPropagation                   0.86               0.83     0.83      0.86   \n",
       "KNeighborsClassifier               0.86               0.82     0.82      0.85   \n",
       "ExtraTreeClassifier                0.75               0.73     0.73      0.75   \n",
       "DummyClassifier                    0.62               0.50     0.50      0.48   \n",
       "\n",
       "                               Time Taken  \n",
       "Model                                      \n",
       "Perceptron                           0.01  \n",
       "LinearSVC                            0.01  \n",
       "CalibratedClassifierCV               0.04  \n",
       "LogisticRegression                   0.01  \n",
       "XGBClassifier                        0.09  \n",
       "ExtraTreesClassifier                 0.13  \n",
       "NearestCentroid                      0.06  \n",
       "AdaBoostClassifier                   0.13  \n",
       "RandomForestClassifier               0.24  \n",
       "SGDClassifier                        0.01  \n",
       "RidgeClassifierCV                    0.01  \n",
       "LinearDiscriminantAnalysis           0.01  \n",
       "RidgeClassifier                      0.01  \n",
       "PassiveAggressiveClassifier          0.01  \n",
       "LGBMClassifier                       0.07  \n",
       "BaggingClassifier                    0.06  \n",
       "BernoulliNB                          0.01  \n",
       "DecisionTreeClassifier               0.01  \n",
       "QuadraticDiscriminantAnalysis        0.01  \n",
       "SVC                                  0.02  \n",
       "NuSVC                                0.03  \n",
       "GaussianNB                           0.01  \n",
       "LabelSpreading                       0.02  \n",
       "LabelPropagation                     0.02  \n",
       "KNeighborsClassifier                 0.02  \n",
       "ExtraTreeClassifier                  0.01  \n",
       "DummyClassifier                      0.01  "
      ]
     },
     "execution_count": 24,
     "metadata": {},
     "output_type": "execute_result"
    }
   ],
   "source": [
    "models"
   ]
  },
  {
   "cell_type": "markdown",
   "id": "54c5fbe1",
   "metadata": {},
   "source": [
    "Initializing and fitting the model"
   ]
  },
  {
   "cell_type": "code",
   "execution_count": 11,
   "id": "0501aadd",
   "metadata": {},
   "outputs": [],
   "source": [
    "final_model = LinearSVC()"
   ]
  },
  {
   "cell_type": "code",
   "execution_count": 12,
   "id": "48938449",
   "metadata": {},
   "outputs": [],
   "source": [
    "final_model = final_model.fit(X_train, y_train)"
   ]
  },
  {
   "cell_type": "markdown",
   "id": "72526740",
   "metadata": {},
   "source": [
    "Making predictions"
   ]
  },
  {
   "cell_type": "code",
   "execution_count": 13,
   "id": "7c4860b7",
   "metadata": {},
   "outputs": [],
   "source": [
    "y_pred = final_model.predict(X_test)"
   ]
  },
  {
   "cell_type": "markdown",
   "id": "77aecf7b",
   "metadata": {},
   "source": [
    "Initializing the evaluation object"
   ]
  },
  {
   "cell_type": "code",
   "execution_count": 16,
   "id": "a62be088",
   "metadata": {},
   "outputs": [],
   "source": [
    "val = evaluation(true=y_test,predicted=y_pred)"
   ]
  },
  {
   "cell_type": "code",
   "execution_count": 18,
   "id": "7d9e52f9",
   "metadata": {},
   "outputs": [
    {
     "name": "stdout",
     "output_type": "stream",
     "text": [
      "Accuracy : 0.9912280701754386\n",
      "Precision: 0.9861111111111112\n",
      "F1: 0.993006993006993\n",
      "Recall : 1.0\n"
     ]
    }
   ],
   "source": [
    "val.evaluate()"
   ]
  },
  {
   "cell_type": "code",
   "execution_count": 19,
   "id": "4af74b7d",
   "metadata": {},
   "outputs": [
    {
     "data": {
      "text/plain": [
       "array([[42,  1],\n",
       "       [ 0, 71]], dtype=int64)"
      ]
     },
     "execution_count": 19,
     "metadata": {},
     "output_type": "execute_result"
    }
   ],
   "source": [
    "val.confusion()"
   ]
  },
  {
   "cell_type": "code",
   "execution_count": 20,
   "id": "1e83b408",
   "metadata": {},
   "outputs": [
    {
     "name": "stdout",
     "output_type": "stream",
     "text": [
      "              precision    recall  f1-score   support\n",
      "\n",
      "           0       1.00      0.98      0.99        43\n",
      "           1       0.99      1.00      0.99        71\n",
      "\n",
      "    accuracy                           0.99       114\n",
      "   macro avg       0.99      0.99      0.99       114\n",
      "weighted avg       0.99      0.99      0.99       114\n",
      "\n"
     ]
    }
   ],
   "source": [
    "val.class_report()"
   ]
  },
  {
   "cell_type": "code",
   "execution_count": 22,
   "id": "ac69a970",
   "metadata": {},
   "outputs": [
    {
     "data": {
      "text/plain": [
       "(0.9912280701754386, 0.9861111111111112, 1.0, 0.993006993006993)"
      ]
     },
     "execution_count": 22,
     "metadata": {},
     "output_type": "execute_result"
    }
   ],
   "source": [
    "val.accuracy,val.precision,val.recall,val.f1_score"
   ]
  },
  {
   "cell_type": "code",
   "execution_count": null,
   "id": "29e5f5a1",
   "metadata": {},
   "outputs": [],
   "source": []
  }
 ],
 "metadata": {
  "kernelspec": {
   "display_name": "Python 3",
   "language": "python",
   "name": "python3"
  },
  "language_info": {
   "codemirror_mode": {
    "name": "ipython",
    "version": 3
   },
   "file_extension": ".py",
   "mimetype": "text/x-python",
   "name": "python",
   "nbconvert_exporter": "python",
   "pygments_lexer": "ipython3",
   "version": "3.8.8"
  }
 },
 "nbformat": 4,
 "nbformat_minor": 5
}
